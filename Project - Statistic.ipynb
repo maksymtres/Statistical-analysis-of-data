{
 "cells": [
  {
   "cell_type": "markdown",
   "id": "27554b8d",
   "metadata": {},
   "source": [
    "# Project: Statistical Data Analysis"
   ]
  },
  {
   "cell_type": "markdown",
   "id": "6a94a09b",
   "metadata": {},
   "source": [
    "We are an analyst for the popular scooter rental service GoFast. You have been given data on some users from several cities, as well as on their trips. Analyze the data and test some hypotheses that can help the business grow.\n",
    "\n",
    "To travel around the city, GoFast users use a mobile application. The service can be used:\n",
    "- without a subscription\n",
    "- no subscription fee;\n",
    "- the cost of one minute of travel is 8 rubles;\n",
    "- the cost of the start (beginning of the trip) is 50 rubles;\n",
    "\n",
    "- with an Ultra subscription\n",
    "- subscription fee is 199 rubles per month;\n",
    "- the cost of one minute of travel is 6 rubles;\n",
    "- the cost of the start is free.\n"
   ]
  },
  {
   "cell_type": "code",
   "execution_count": 1,
   "id": "72576667",
   "metadata": {},
   "outputs": [],
   "source": [
    "import os\n",
    "import pandas as pd\n",
    "import numpy as np\n",
    "import matplotlib.pyplot as plt\n",
    "import seaborn as sns\n",
    "from scipy import stats as st\n",
    "from scipy.stats import binom"
   ]
  },
  {
   "cell_type": "markdown",
   "id": "c42cbe00",
   "metadata": {},
   "source": [
    "#### Step 1. Loading data"
   ]
  },
  {
   "cell_type": "code",
   "execution_count": 2,
   "id": "4d91d49e-a50a-4203-a4f1-5621f30559ae",
   "metadata": {},
   "outputs": [],
   "source": [
    "pth1 = ['C:/Users/max/Downloads/users_go.csv', 'C:/Users/max/Downloads/rides_go.csv', \n",
    "        'C:/Users/max/Downloads/subscriptions_go.csv']\n",
    "pth2 = ['/datasets/users_go.csv', '/datasets/rides_go.csv', \n",
    "       '/datasets/subscriptions_go.csv']\n",
    "\n",
    "# we select the current set of paths\n",
    "if all(os.path.exists(p) for p in pth1):\n",
    "    paths = pth1\n",
    "elif all(os.path.exists(p) for p in pth2):\n",
    "    paths = pth2\n",
    "else:\n",
    "    raise FileNotFoundError(\"Could not find all required files\")\n",
    "\n",
    "# read data\n",
    "users_df = pd.read_csv(paths[0], delimiter=',', encoding='utf-8')\n",
    "rides_df = pd.read_csv(paths[1], delimiter=',', encoding='utf-8')\n",
    "subscriptions_df = pd.read_csv(paths[2], delimiter=',', encoding='utf-8')\n",
    "\n"
   ]
  },
  {
   "cell_type": "code",
   "execution_count": null,
   "id": "eff9f206",
   "metadata": {},
   "outputs": [],
   "source": []
  },
  {
   "cell_type": "code",
   "execution_count": null,
   "id": "9e4da79d-bff5-4ce6-ba1b-39ea32841c94",
   "metadata": {},
   "outputs": [],
   "source": []
  },
  {
   "cell_type": "code",
   "execution_count": 3,
   "id": "3d915e2d",
   "metadata": {},
   "outputs": [
    {
     "data": {
      "text/html": [
       "<div>\n",
       "<style scoped>\n",
       "    .dataframe tbody tr th:only-of-type {\n",
       "        vertical-align: middle;\n",
       "    }\n",
       "\n",
       "    .dataframe tbody tr th {\n",
       "        vertical-align: top;\n",
       "    }\n",
       "\n",
       "    .dataframe thead th {\n",
       "        text-align: right;\n",
       "    }\n",
       "</style>\n",
       "<table border=\"1\" class=\"dataframe\">\n",
       "  <thead>\n",
       "    <tr style=\"text-align: right;\">\n",
       "      <th></th>\n",
       "      <th>user_id</th>\n",
       "      <th>name</th>\n",
       "      <th>age</th>\n",
       "      <th>city</th>\n",
       "      <th>subscription_type</th>\n",
       "    </tr>\n",
       "  </thead>\n",
       "  <tbody>\n",
       "    <tr>\n",
       "      <th>0</th>\n",
       "      <td>1</td>\n",
       "      <td>Кира</td>\n",
       "      <td>22</td>\n",
       "      <td>Тюмень</td>\n",
       "      <td>ultra</td>\n",
       "    </tr>\n",
       "    <tr>\n",
       "      <th>1</th>\n",
       "      <td>2</td>\n",
       "      <td>Станислав</td>\n",
       "      <td>31</td>\n",
       "      <td>Омск</td>\n",
       "      <td>ultra</td>\n",
       "    </tr>\n",
       "    <tr>\n",
       "      <th>2</th>\n",
       "      <td>3</td>\n",
       "      <td>Алексей</td>\n",
       "      <td>20</td>\n",
       "      <td>Москва</td>\n",
       "      <td>ultra</td>\n",
       "    </tr>\n",
       "    <tr>\n",
       "      <th>3</th>\n",
       "      <td>4</td>\n",
       "      <td>Константин</td>\n",
       "      <td>26</td>\n",
       "      <td>Ростов-на-Дону</td>\n",
       "      <td>ultra</td>\n",
       "    </tr>\n",
       "    <tr>\n",
       "      <th>4</th>\n",
       "      <td>5</td>\n",
       "      <td>Адель</td>\n",
       "      <td>28</td>\n",
       "      <td>Омск</td>\n",
       "      <td>ultra</td>\n",
       "    </tr>\n",
       "  </tbody>\n",
       "</table>\n",
       "</div>"
      ],
      "text/plain": [
       "   user_id        name  age            city subscription_type\n",
       "0        1        Кира   22          Тюмень             ultra\n",
       "1        2   Станислав   31            Омск             ultra\n",
       "2        3     Алексей   20          Москва             ultra\n",
       "3        4  Константин   26  Ростов-на-Дону             ultra\n",
       "4        5       Адель   28            Омск             ultra"
      ]
     },
     "execution_count": 3,
     "metadata": {},
     "output_type": "execute_result"
    }
   ],
   "source": [
    "users_df.head()"
   ]
  },
  {
   "cell_type": "code",
   "execution_count": 4,
   "id": "6c67db8e",
   "metadata": {},
   "outputs": [
    {
     "data": {
      "text/html": [
       "<div>\n",
       "<style scoped>\n",
       "    .dataframe tbody tr th:only-of-type {\n",
       "        vertical-align: middle;\n",
       "    }\n",
       "\n",
       "    .dataframe tbody tr th {\n",
       "        vertical-align: top;\n",
       "    }\n",
       "\n",
       "    .dataframe thead th {\n",
       "        text-align: right;\n",
       "    }\n",
       "</style>\n",
       "<table border=\"1\" class=\"dataframe\">\n",
       "  <thead>\n",
       "    <tr style=\"text-align: right;\">\n",
       "      <th></th>\n",
       "      <th>user_id</th>\n",
       "      <th>distance</th>\n",
       "      <th>duration</th>\n",
       "      <th>date</th>\n",
       "    </tr>\n",
       "  </thead>\n",
       "  <tbody>\n",
       "    <tr>\n",
       "      <th>0</th>\n",
       "      <td>1</td>\n",
       "      <td>4409.919140</td>\n",
       "      <td>25.599769</td>\n",
       "      <td>2021-01-01</td>\n",
       "    </tr>\n",
       "    <tr>\n",
       "      <th>1</th>\n",
       "      <td>1</td>\n",
       "      <td>2617.592153</td>\n",
       "      <td>15.816871</td>\n",
       "      <td>2021-01-18</td>\n",
       "    </tr>\n",
       "    <tr>\n",
       "      <th>2</th>\n",
       "      <td>1</td>\n",
       "      <td>754.159807</td>\n",
       "      <td>6.232113</td>\n",
       "      <td>2021-04-20</td>\n",
       "    </tr>\n",
       "    <tr>\n",
       "      <th>3</th>\n",
       "      <td>1</td>\n",
       "      <td>2694.783254</td>\n",
       "      <td>18.511000</td>\n",
       "      <td>2021-08-11</td>\n",
       "    </tr>\n",
       "    <tr>\n",
       "      <th>4</th>\n",
       "      <td>1</td>\n",
       "      <td>4028.687306</td>\n",
       "      <td>26.265803</td>\n",
       "      <td>2021-08-28</td>\n",
       "    </tr>\n",
       "  </tbody>\n",
       "</table>\n",
       "</div>"
      ],
      "text/plain": [
       "   user_id     distance   duration        date\n",
       "0        1  4409.919140  25.599769  2021-01-01\n",
       "1        1  2617.592153  15.816871  2021-01-18\n",
       "2        1   754.159807   6.232113  2021-04-20\n",
       "3        1  2694.783254  18.511000  2021-08-11\n",
       "4        1  4028.687306  26.265803  2021-08-28"
      ]
     },
     "execution_count": 4,
     "metadata": {},
     "output_type": "execute_result"
    }
   ],
   "source": [
    "rides_df.head()"
   ]
  },
  {
   "cell_type": "code",
   "execution_count": 5,
   "id": "59426599",
   "metadata": {},
   "outputs": [
    {
     "data": {
      "text/html": [
       "<div>\n",
       "<style scoped>\n",
       "    .dataframe tbody tr th:only-of-type {\n",
       "        vertical-align: middle;\n",
       "    }\n",
       "\n",
       "    .dataframe tbody tr th {\n",
       "        vertical-align: top;\n",
       "    }\n",
       "\n",
       "    .dataframe thead th {\n",
       "        text-align: right;\n",
       "    }\n",
       "</style>\n",
       "<table border=\"1\" class=\"dataframe\">\n",
       "  <thead>\n",
       "    <tr style=\"text-align: right;\">\n",
       "      <th></th>\n",
       "      <th>subscription_type</th>\n",
       "      <th>minute_price</th>\n",
       "      <th>start_ride_price</th>\n",
       "      <th>subscription_fee</th>\n",
       "    </tr>\n",
       "  </thead>\n",
       "  <tbody>\n",
       "    <tr>\n",
       "      <th>0</th>\n",
       "      <td>free</td>\n",
       "      <td>8</td>\n",
       "      <td>50</td>\n",
       "      <td>0</td>\n",
       "    </tr>\n",
       "    <tr>\n",
       "      <th>1</th>\n",
       "      <td>ultra</td>\n",
       "      <td>6</td>\n",
       "      <td>0</td>\n",
       "      <td>199</td>\n",
       "    </tr>\n",
       "  </tbody>\n",
       "</table>\n",
       "</div>"
      ],
      "text/plain": [
       "  subscription_type  minute_price  start_ride_price  subscription_fee\n",
       "0              free             8                50                 0\n",
       "1             ultra             6                 0               199"
      ]
     },
     "execution_count": 5,
     "metadata": {},
     "output_type": "execute_result"
    }
   ],
   "source": [
    "subscriptions_df.head()"
   ]
  },
  {
   "cell_type": "code",
   "execution_count": 6,
   "id": "5bf2c8c2",
   "metadata": {},
   "outputs": [
    {
     "name": "stdout",
     "output_type": "stream",
     "text": [
      "<class 'pandas.core.frame.DataFrame'>\n",
      "RangeIndex: 1565 entries, 0 to 1564\n",
      "Data columns (total 5 columns):\n",
      " #   Column             Non-Null Count  Dtype \n",
      "---  ------             --------------  ----- \n",
      " 0   user_id            1565 non-null   int64 \n",
      " 1   name               1565 non-null   object\n",
      " 2   age                1565 non-null   int64 \n",
      " 3   city               1565 non-null   object\n",
      " 4   subscription_type  1565 non-null   object\n",
      "dtypes: int64(2), object(3)\n",
      "memory usage: 61.3+ KB\n",
      "<class 'pandas.core.frame.DataFrame'>\n",
      "RangeIndex: 18068 entries, 0 to 18067\n",
      "Data columns (total 4 columns):\n",
      " #   Column    Non-Null Count  Dtype  \n",
      "---  ------    --------------  -----  \n",
      " 0   user_id   18068 non-null  int64  \n",
      " 1   distance  18068 non-null  float64\n",
      " 2   duration  18068 non-null  float64\n",
      " 3   date      18068 non-null  object \n",
      "dtypes: float64(2), int64(1), object(1)\n",
      "memory usage: 564.8+ KB\n",
      "<class 'pandas.core.frame.DataFrame'>\n",
      "RangeIndex: 2 entries, 0 to 1\n",
      "Data columns (total 4 columns):\n",
      " #   Column             Non-Null Count  Dtype \n",
      "---  ------             --------------  ----- \n",
      " 0   subscription_type  2 non-null      object\n",
      " 1   minute_price       2 non-null      int64 \n",
      " 2   start_ride_price   2 non-null      int64 \n",
      " 3   subscription_fee   2 non-null      int64 \n",
      "dtypes: int64(3), object(1)\n",
      "memory usage: 192.0+ bytes\n"
     ]
    }
   ],
   "source": [
    "list_df_info = [users_df, rides_df, subscriptions_df]\n",
    "\n",
    "for i in list_df_info:\n",
    "    i.info()"
   ]
  },
  {
   "cell_type": "markdown",
   "id": "4a48e95b",
   "metadata": {},
   "source": [
    "**Output for step 1:**\n",
    "\n",
    "- Data was successfully downloaded from three files: user, trip, and subscription information.\n",
    "\n",
    "- The first rows of each data set were examined.   \n",
    "    "
   ]
  },
  {
   "cell_type": "markdown",
   "id": "e95ebca7",
   "metadata": {},
   "source": [
    "#### Step 2. Data preprocessing"
   ]
  },
  {
   "cell_type": "markdown",
   "id": "3e54c90e",
   "metadata": {},
   "source": [
    "2.1 Casting a date column to datetime type"
   ]
  },
  {
   "cell_type": "code",
   "execution_count": 7,
   "id": "af6d202c",
   "metadata": {},
   "outputs": [],
   "source": [
    "rides_df['date'] = pd.to_datetime(rides_df['date'], format='%Y-%m-%d')"
   ]
  },
  {
   "cell_type": "code",
   "execution_count": 8,
   "id": "a4160bea",
   "metadata": {},
   "outputs": [
    {
     "data": {
      "text/plain": [
       "date    datetime64[ns]\n",
       "dtype: object"
      ]
     },
     "execution_count": 8,
     "metadata": {},
     "output_type": "execute_result"
    }
   ],
   "source": [
    "rides_df[['date']].dtypes"
   ]
  },
  {
   "cell_type": "markdown",
   "id": "63843cb8",
   "metadata": {},
   "source": [
    "2.2 Creating a column with the month number"
   ]
  },
  {
   "cell_type": "code",
   "execution_count": 9,
   "id": "75cc05d4",
   "metadata": {},
   "outputs": [],
   "source": [
    "rides_df['month'] = rides_df['date'].dt.month"
   ]
  },
  {
   "cell_type": "code",
   "execution_count": 10,
   "id": "f64c7a17",
   "metadata": {},
   "outputs": [
    {
     "data": {
      "text/plain": [
       "0         1\n",
       "1         1\n",
       "2         4\n",
       "3         8\n",
       "4         8\n",
       "         ..\n",
       "18063    11\n",
       "18064    11\n",
       "18065    11\n",
       "18066    11\n",
       "18067    12\n",
       "Name: month, Length: 18068, dtype: int64"
      ]
     },
     "execution_count": 10,
     "metadata": {},
     "output_type": "execute_result"
    }
   ],
   "source": [
    "rides_df['month'] "
   ]
  },
  {
   "cell_type": "markdown",
   "id": "bdff9956",
   "metadata": {},
   "source": [
    "2.3 Check for missing values"
   ]
  },
  {
   "cell_type": "code",
   "execution_count": 11,
   "id": "8a1fcc80",
   "metadata": {},
   "outputs": [
    {
     "data": {
      "text/plain": [
       "{'users': user_id              0\n",
       " name                 0\n",
       " age                  0\n",
       " city                 0\n",
       " subscription_type    0\n",
       " dtype: int64,\n",
       " 'rides': user_id     0\n",
       " distance    0\n",
       " duration    0\n",
       " date        0\n",
       " month       0\n",
       " dtype: int64,\n",
       " 'subscriptions': subscription_type    0\n",
       " minute_price         0\n",
       " start_ride_price     0\n",
       " subscription_fee     0\n",
       " dtype: int64}"
      ]
     },
     "execution_count": 11,
     "metadata": {},
     "output_type": "execute_result"
    }
   ],
   "source": [
    "missing_values = {\n",
    "    \"users\": users_df.isnull().sum(),\n",
    "    \"rides\": rides_df.isnull().sum(),\n",
    "    \"subscriptions\": subscriptions_df.isnull().sum(),\n",
    "}\n",
    "missing_values"
   ]
  },
  {
   "cell_type": "markdown",
   "id": "65e59bd2",
   "metadata": {},
   "source": [
    "2.4 Check for duplicates"
   ]
  },
  {
   "cell_type": "code",
   "execution_count": 12,
   "id": "0b1cfdf8",
   "metadata": {},
   "outputs": [
    {
     "data": {
      "text/plain": [
       "{'users': 31, 'rides': 0, 'subscriptions': 0}"
      ]
     },
     "execution_count": 12,
     "metadata": {},
     "output_type": "execute_result"
    }
   ],
   "source": [
    "duplicates = {\n",
    "    \"users\": users_df.duplicated().sum(),\n",
    "    \"rides\": rides_df.duplicated().sum(),\n",
    "    \"subscriptions\": subscriptions_df.duplicated().sum(),\n",
    "}\n",
    "duplicates"
   ]
  },
  {
   "cell_type": "code",
   "execution_count": 13,
   "id": "b9ce16d0",
   "metadata": {},
   "outputs": [
    {
     "data": {
      "text/plain": [
       "0"
      ]
     },
     "execution_count": 13,
     "metadata": {},
     "output_type": "execute_result"
    }
   ],
   "source": [
    "# Removing duplicates in user data\n",
    "users_df = users_df.drop_duplicates()\n",
    "\n",
    "# Checking the number of duplicates after deletion\n",
    "users_df.duplicated().sum()\n"
   ]
  },
  {
   "cell_type": "markdown",
   "id": "87e8fdf1",
   "metadata": {},
   "source": [
    "**Output for step 2:**\n",
    "\n",
    "- Trip date converted to datetime format, and a column with the month number was added.\n",
    "\n",
    "- There were no missing values in the data.\n",
    "\n",
    "- 31 duplicate values were found in the user data, they were removed.\n"
   ]
  },
  {
   "cell_type": "markdown",
   "id": "212593c7",
   "metadata": {},
   "source": [
    "#### Step 3. Exploratory data analysis"
   ]
  },
  {
   "cell_type": "markdown",
   "id": "75607761",
   "metadata": {},
   "source": [
    "Setting the chart style"
   ]
  },
  {
   "cell_type": "code",
   "execution_count": 14,
   "id": "dcd62267",
   "metadata": {},
   "outputs": [],
   "source": [
    "sns.set(style=\"whitegrid\")"
   ]
  },
  {
   "cell_type": "markdown",
   "id": "d8200271",
   "metadata": {},
   "source": [
    "3.1 Frequency of occurrence of cities"
   ]
  },
  {
   "cell_type": "code",
   "execution_count": 15,
   "id": "004bec0a",
   "metadata": {},
   "outputs": [
    {
     "data": {
      "image/png": "[encoded data removed]",
      "text/plain": [
       "<Figure size 1200x500 with 1 Axes>"
      ]
     },
     "metadata": {},
     "output_type": "display_data"
    }
   ],
   "source": [
    "plt.figure(figsize=(12, 5))\n",
    "sns.countplot(y=users_df[\"city\"], order=users_df[\"city\"].value_counts().index, palette=\"viridis\")\n",
    "plt.title(\"Distribution of users by cities\")\n",
    "plt.xlabel(\"Number of users\")\n",
    "plt.ylabel(\"City\")\n",
    "plt.show()"
   ]
  },
  {
   "cell_type": "markdown",
   "id": "f9e54831",
   "metadata": {},
   "source": [
    "3.2 Ratio of users with and without subscription"
   ]
  },
  {
   "cell_type": "code",
   "execution_count": 16,
   "id": "1f3fc39f",
   "metadata": {},
   "outputs": [
    {
     "data": {
      "image/png": "[encoded data removed]",
      "text/plain": [
       "<Figure size 600x600 with 1 Axes>"
      ]
     },
     "metadata": {},
     "output_type": "display_data"
    }
   ],
   "source": [
    "plt.figure(figsize=(6, 6))\n",
    "users_df[\"subscription_type\"].value_counts().plot(kind=\"pie\", autopct=\"%1.1f%%\", colors=[\"#1f77b4\", \"#ff7f0e\"])\n",
    "plt.title(\"Distribution of users by subscription type\")\n",
    "plt.ylabel(\"\")\n",
    "plt.show()"
   ]
  },
  {
   "cell_type": "markdown",
   "id": "ddef79b6",
   "metadata": {},
   "source": [
    "3.3 age of users"
   ]
  },
  {
   "cell_type": "code",
   "execution_count": 17,
   "id": "b69e9a0f",
   "metadata": {},
   "outputs": [
    {
     "data": {
      "image/png": "[encoded data removed]",
      "text/plain": [
       "<Figure size 1000x500 with 1 Axes>"
      ]
     },
     "metadata": {},
     "output_type": "display_data"
    }
   ],
   "source": [
    "plt.figure(figsize=(10, 5))\n",
    "sns.histplot(users_df[\"age\"], bins=30, kde=True, color=\"royalblue\")\n",
    "plt.title(\"Distribution of user age\")\n",
    "plt.xlabel(\"Age\")\n",
    "plt.ylabel(\"Number of users\")\n",
    "plt.show()"
   ]
  },
  {
   "cell_type": "markdown",
   "id": "c0cf2b48",
   "metadata": {},
   "source": [
    "3.4 the distance the user has traveled in one trip"
   ]
  },
  {
   "cell_type": "code",
   "execution_count": 18,
   "id": "8e5fa65a",
   "metadata": {},
   "outputs": [
    {
     "data": {
      "image/png": "[encoded data removed]",
      "text/plain": [
       "<Figure size 1000x500 with 1 Axes>"
      ]
     },
     "metadata": {},
     "output_type": "display_data"
    }
   ],
   "source": [
    "plt.figure(figsize=(10, 5))\n",
    "sns.histplot(rides_df[\"distance\"], bins=30, kde=True, color=\"green\")\n",
    "plt.title(\"Distribution of travel distances\")\n",
    "plt.xlabel(\"Distance (meters)\")\n",
    "plt.ylabel(\"Number of trips\")\n",
    "plt.show()\n"
   ]
  },
  {
   "cell_type": "markdown",
   "id": "63bf67fc",
   "metadata": {},
   "source": [
    "3.5 duration of trips"
   ]
  },
  {
   "cell_type": "code",
   "execution_count": 19,
   "id": "fa97caa2",
   "metadata": {},
   "outputs": [
    {
     "data": {
      "image/png": "[encoded data removed]",
      "text/plain": [
       "<Figure size 1000x500 with 1 Axes>"
      ]
     },
     "metadata": {},
     "output_type": "display_data"
    }
   ],
   "source": [
    "plt.figure(figsize=(10, 5))\n",
    "sns.histplot(rides_df[\"duration\"], bins=30, kde=True, color=\"red\")\n",
    "plt.title(\"Distribution of trip durations\")\n",
    "plt.xlabel(\"Time (minutes)\")\n",
    "plt.ylabel(\"Number of trips\")\n",
    "plt.show()"
   ]
  },
  {
   "cell_type": "markdown",
   "id": "437fb653",
   "metadata": {},
   "source": [
    "**Output from step 3:**\n",
    "\n",
    "- Distribution of users by city: Most users are located in large cities.\n",
    "\n",
    "- Ratio of subscribers to unsubscribed users: The proportion of subscribers is relatively small.\n",
    "\n",
    "- Distribution of user ages: Most users are young.\n",
    "\n",
    "- Distribution of trip distances: Most trips are relatively short.\n",
    "\n",
    "- Distribution of trip durations: Most trips are short in duration."
   ]
  },
  {
   "cell_type": "markdown",
   "id": "4ef51331",
   "metadata": {},
   "source": [
    "#### Step 4: Combine data"
   ]
  },
  {
   "cell_type": "markdown",
   "id": "6aa63538",
   "metadata": {},
   "source": [
    "4.1 Combine user, travel and subscription data"
   ]
  },
  {
   "cell_type": "code",
   "execution_count": 20,
   "id": "4dacb31c",
   "metadata": {},
   "outputs": [
    {
     "data": {
      "text/html": [
       "<div>\n",
       "<style scoped>\n",
       "    .dataframe tbody tr th:only-of-type {\n",
       "        vertical-align: middle;\n",
       "    }\n",
       "\n",
       "    .dataframe tbody tr th {\n",
       "        vertical-align: top;\n",
       "    }\n",
       "\n",
       "    .dataframe thead th {\n",
       "        text-align: right;\n",
       "    }\n",
       "</style>\n",
       "<table border=\"1\" class=\"dataframe\">\n",
       "  <thead>\n",
       "    <tr style=\"text-align: right;\">\n",
       "      <th></th>\n",
       "      <th>user_id</th>\n",
       "      <th>distance</th>\n",
       "      <th>duration</th>\n",
       "      <th>date</th>\n",
       "      <th>month</th>\n",
       "      <th>name</th>\n",
       "      <th>age</th>\n",
       "      <th>city</th>\n",
       "      <th>subscription_type</th>\n",
       "      <th>minute_price</th>\n",
       "      <th>start_ride_price</th>\n",
       "      <th>subscription_fee</th>\n",
       "    </tr>\n",
       "  </thead>\n",
       "  <tbody>\n",
       "    <tr>\n",
       "      <th>0</th>\n",
       "      <td>1</td>\n",
       "      <td>4409.919140</td>\n",
       "      <td>25.599769</td>\n",
       "      <td>2021-01-01</td>\n",
       "      <td>1</td>\n",
       "      <td>Кира</td>\n",
       "      <td>22</td>\n",
       "      <td>Тюмень</td>\n",
       "      <td>ultra</td>\n",
       "      <td>6</td>\n",
       "      <td>0</td>\n",
       "      <td>199</td>\n",
       "    </tr>\n",
       "    <tr>\n",
       "      <th>1</th>\n",
       "      <td>1</td>\n",
       "      <td>2617.592153</td>\n",
       "      <td>15.816871</td>\n",
       "      <td>2021-01-18</td>\n",
       "      <td>1</td>\n",
       "      <td>Кира</td>\n",
       "      <td>22</td>\n",
       "      <td>Тюмень</td>\n",
       "      <td>ultra</td>\n",
       "      <td>6</td>\n",
       "      <td>0</td>\n",
       "      <td>199</td>\n",
       "    </tr>\n",
       "    <tr>\n",
       "      <th>2</th>\n",
       "      <td>1</td>\n",
       "      <td>754.159807</td>\n",
       "      <td>6.232113</td>\n",
       "      <td>2021-04-20</td>\n",
       "      <td>4</td>\n",
       "      <td>Кира</td>\n",
       "      <td>22</td>\n",
       "      <td>Тюмень</td>\n",
       "      <td>ultra</td>\n",
       "      <td>6</td>\n",
       "      <td>0</td>\n",
       "      <td>199</td>\n",
       "    </tr>\n",
       "    <tr>\n",
       "      <th>3</th>\n",
       "      <td>1</td>\n",
       "      <td>2694.783254</td>\n",
       "      <td>18.511000</td>\n",
       "      <td>2021-08-11</td>\n",
       "      <td>8</td>\n",
       "      <td>Кира</td>\n",
       "      <td>22</td>\n",
       "      <td>Тюмень</td>\n",
       "      <td>ultra</td>\n",
       "      <td>6</td>\n",
       "      <td>0</td>\n",
       "      <td>199</td>\n",
       "    </tr>\n",
       "    <tr>\n",
       "      <th>4</th>\n",
       "      <td>1</td>\n",
       "      <td>4028.687306</td>\n",
       "      <td>26.265803</td>\n",
       "      <td>2021-08-28</td>\n",
       "      <td>8</td>\n",
       "      <td>Кира</td>\n",
       "      <td>22</td>\n",
       "      <td>Тюмень</td>\n",
       "      <td>ultra</td>\n",
       "      <td>6</td>\n",
       "      <td>0</td>\n",
       "      <td>199</td>\n",
       "    </tr>\n",
       "    <tr>\n",
       "      <th>...</th>\n",
       "      <td>...</td>\n",
       "      <td>...</td>\n",
       "      <td>...</td>\n",
       "      <td>...</td>\n",
       "      <td>...</td>\n",
       "      <td>...</td>\n",
       "      <td>...</td>\n",
       "      <td>...</td>\n",
       "      <td>...</td>\n",
       "      <td>...</td>\n",
       "      <td>...</td>\n",
       "      <td>...</td>\n",
       "    </tr>\n",
       "    <tr>\n",
       "      <th>18063</th>\n",
       "      <td>1534</td>\n",
       "      <td>3781.098080</td>\n",
       "      <td>19.822962</td>\n",
       "      <td>2021-11-04</td>\n",
       "      <td>11</td>\n",
       "      <td>Альберт</td>\n",
       "      <td>25</td>\n",
       "      <td>Краснодар</td>\n",
       "      <td>free</td>\n",
       "      <td>8</td>\n",
       "      <td>50</td>\n",
       "      <td>0</td>\n",
       "    </tr>\n",
       "    <tr>\n",
       "      <th>18064</th>\n",
       "      <td>1534</td>\n",
       "      <td>2840.423057</td>\n",
       "      <td>21.409799</td>\n",
       "      <td>2021-11-16</td>\n",
       "      <td>11</td>\n",
       "      <td>Альберт</td>\n",
       "      <td>25</td>\n",
       "      <td>Краснодар</td>\n",
       "      <td>free</td>\n",
       "      <td>8</td>\n",
       "      <td>50</td>\n",
       "      <td>0</td>\n",
       "    </tr>\n",
       "    <tr>\n",
       "      <th>18065</th>\n",
       "      <td>1534</td>\n",
       "      <td>3826.185507</td>\n",
       "      <td>18.435051</td>\n",
       "      <td>2021-11-18</td>\n",
       "      <td>11</td>\n",
       "      <td>Альберт</td>\n",
       "      <td>25</td>\n",
       "      <td>Краснодар</td>\n",
       "      <td>free</td>\n",
       "      <td>8</td>\n",
       "      <td>50</td>\n",
       "      <td>0</td>\n",
       "    </tr>\n",
       "    <tr>\n",
       "      <th>18066</th>\n",
       "      <td>1534</td>\n",
       "      <td>2902.308661</td>\n",
       "      <td>16.674362</td>\n",
       "      <td>2021-11-27</td>\n",
       "      <td>11</td>\n",
       "      <td>Альберт</td>\n",
       "      <td>25</td>\n",
       "      <td>Краснодар</td>\n",
       "      <td>free</td>\n",
       "      <td>8</td>\n",
       "      <td>50</td>\n",
       "      <td>0</td>\n",
       "    </tr>\n",
       "    <tr>\n",
       "      <th>18067</th>\n",
       "      <td>1534</td>\n",
       "      <td>2371.711192</td>\n",
       "      <td>15.893917</td>\n",
       "      <td>2021-12-29</td>\n",
       "      <td>12</td>\n",
       "      <td>Альберт</td>\n",
       "      <td>25</td>\n",
       "      <td>Краснодар</td>\n",
       "      <td>free</td>\n",
       "      <td>8</td>\n",
       "      <td>50</td>\n",
       "      <td>0</td>\n",
       "    </tr>\n",
       "  </tbody>\n",
       "</table>\n",
       "<p>18068 rows × 12 columns</p>\n",
       "</div>"
      ],
      "text/plain": [
       "       user_id     distance   duration       date  month     name  age  \\\n",
       "0            1  4409.919140  25.599769 2021-01-01      1     Кира   22   \n",
       "1            1  2617.592153  15.816871 2021-01-18      1     Кира   22   \n",
       "2            1   754.159807   6.232113 2021-04-20      4     Кира   22   \n",
       "3            1  2694.783254  18.511000 2021-08-11      8     Кира   22   \n",
       "4            1  4028.687306  26.265803 2021-08-28      8     Кира   22   \n",
       "...        ...          ...        ...        ...    ...      ...  ...   \n",
       "18063     1534  3781.098080  19.822962 2021-11-04     11  Альберт   25   \n",
       "18064     1534  2840.423057  21.409799 2021-11-16     11  Альберт   25   \n",
       "18065     1534  3826.185507  18.435051 2021-11-18     11  Альберт   25   \n",
       "18066     1534  2902.308661  16.674362 2021-11-27     11  Альберт   25   \n",
       "18067     1534  2371.711192  15.893917 2021-12-29     12  Альберт   25   \n",
       "\n",
       "            city subscription_type  minute_price  start_ride_price  \\\n",
       "0         Тюмень             ultra             6                 0   \n",
       "1         Тюмень             ultra             6                 0   \n",
       "2         Тюмень             ultra             6                 0   \n",
       "3         Тюмень             ultra             6                 0   \n",
       "4         Тюмень             ultra             6                 0   \n",
       "...          ...               ...           ...               ...   \n",
       "18063  Краснодар              free             8                50   \n",
       "18064  Краснодар              free             8                50   \n",
       "18065  Краснодар              free             8                50   \n",
       "18066  Краснодар              free             8                50   \n",
       "18067  Краснодар              free             8                50   \n",
       "\n",
       "       subscription_fee  \n",
       "0                   199  \n",
       "1                   199  \n",
       "2                   199  \n",
       "3                   199  \n",
       "4                   199  \n",
       "...                 ...  \n",
       "18063                 0  \n",
       "18064                 0  \n",
       "18065                 0  \n",
       "18066                 0  \n",
       "18067                 0  \n",
       "\n",
       "[18068 rows x 12 columns]"
      ]
     },
     "execution_count": 20,
     "metadata": {},
     "output_type": "execute_result"
    }
   ],
   "source": [
    "# Data Merging\n",
    "merged_df = rides_df.merge(users_df, on=\"user_id\", how=\"left\")\n",
    "merged_df = merged_df.merge(subscriptions_df, on=\"subscription_type\", how=\"left\")\n",
    "\n",
    "\n",
    "merged_df "
   ]
  },
  {
   "cell_type": "markdown",
   "id": "cb0a6821",
   "metadata": {},
   "source": [
    "4.2 Create two more dataframes from the dataframe created in step 4.1:\n",
    "\n",
    "with data about users without a subscription;\n",
    "with data about users with a subscription."
   ]
  },
  {
   "cell_type": "code",
   "execution_count": 21,
   "id": "946bbe52",
   "metadata": {},
   "outputs": [],
   "source": [
    "# Splitting data into two groups\n",
    "free_users_df = merged_df[merged_df['subscription_type'] == 'free']\n",
    "ultra_users_df = merged_df[merged_df['subscription_type'] == 'ultra']"
   ]
  },
  {
   "cell_type": "markdown",
   "id": "4c2cb853",
   "metadata": {},
   "source": [
    "4.3 We visualize information about travel distance and time for users of both categories."
   ]
  },
  {
   "cell_type": "code",
   "execution_count": 22,
   "id": "3811e697",
   "metadata": {},
   "outputs": [
    {
     "data": {
      "image/png": "[encoded data removed]",
      "text/plain": [
       "<Figure size 1200x500 with 1 Axes>"
      ]
     },
     "metadata": {},
     "output_type": "display_data"
    },
    {
     "data": {
      "image/png": "[encoded data removed]",
      "text/plain": [
       "<Figure size 1200x500 with 1 Axes>"
      ]
     },
     "metadata": {},
     "output_type": "display_data"
    }
   ],
   "source": [
    "# Visualization of travel distances for two categories of users\n",
    "plt.figure(figsize=(12, 5))\n",
    "plt.hist(free_users_df['distance'], bins=30, alpha=0.5, label=\"Without subscription\", edgecolor='black')\n",
    "plt.hist(ultra_users_df['distance'], bins=30, alpha=0.5, label=\"With subscription\", edgecolor='black')\n",
    "plt.xlabel(\"Travel distance (m)\")\n",
    "plt.ylabel(\"Number of trips\")\n",
    "plt.title(\"Comparison of travel distances between users with and without a subscription\")\n",
    "plt.legend()\n",
    "plt.grid(axis='y', linestyle='--', alpha=0.7)\n",
    "plt.show()\n",
    "\n",
    "# Visualization of trip duration for two categories of users\n",
    "plt.figure(figsize=(12, 5))\n",
    "plt.hist(free_users_df['duration'], bins=30, alpha=0.5, label=\"Without subscription\", edgecolor='black')\n",
    "plt.hist(ultra_users_df['duration'], bins=30, alpha=0.5, label=\"With subscription\", edgecolor='black')\n",
    "plt.xlabel(\"Travel time (min)\")\n",
    "plt.ylabel(\"Number of trips\")\n",
    "plt.title(\"Comparison of trip duration between users with and without a subscription\")\n",
    "plt.legend()\n",
    "plt.grid(axis='y', linestyle='--', alpha=0.7)\n",
    "plt.show()\n"
   ]
  },
  {
   "cell_type": "markdown",
   "id": "cd4f7ac9",
   "metadata": {},
   "source": [
    "**Output for step 4:**\n",
    "\n",
    "- All three datasets have been successfully merged into one.\n",
    "\n",
    "- Separate dataframes have been created for subscribed and unsubscribed users.\n",
    "\n",
    "- Travel distances and times have been compared for both groups of users.\n"
   ]
  },
  {
   "cell_type": "code",
   "execution_count": null,
   "id": "008d20a2-4668-4091-8c71-f0870701939f",
   "metadata": {},
   "outputs": [],
   "source": []
  },
  {
   "cell_type": "markdown",
   "id": "03a979cc",
   "metadata": {},
   "source": [
    "\n",
    "\n",
    "When analyzing the trip distance and duration data for Ultra and Free users, the following patterns emerge:\n",
    "\n",
    "1. Trip Distance:\n",
    "\n",
    "- Free users tend to take shorter trips.\n",
    "- Ultra subscribers have a more even distribution of distances, taking both short and long trips.\n",
    "- On average, subscribed users travel slightly more kilometers per trip.\n",
    "\n",
    "2. Trip Duration:\n",
    "\n",
    "- Ultra subscribers travel longer on average per trip.\n",
    "- Free users take shorter trips, which may be due to the high cost per minute of travel.\n",
    "\n",
    "3. User Behavior:\n",
    "\n",
    "- Subscriptions encourage users to spend more time on a trip, since the minute is cheaper and the start is free.\n",
    "- Free users, on the other hand, save money by taking shorter trips and minimizing the start-up fee.\n",
    "\n",
    "So, on average, Ultra subscribers take longer and more extended trips, while non-subscribers limit their trip length to reduce costs.\n",
    "\n"
   ]
  },
  {
   "cell_type": "markdown",
   "id": "402d620f",
   "metadata": {},
   "source": [
    "#### Step 5. Calculating revenue"
   ]
  },
  {
   "cell_type": "markdown",
   "id": "9e7d2166",
   "metadata": {},
   "source": [
    "5.1 Rounding the duration to the next whole number"
   ]
  },
  {
   "cell_type": "code",
   "execution_count": 23,
   "id": "f8972309",
   "metadata": {},
   "outputs": [],
   "source": [
    "merged_df['rounded_duration'] = np.ceil(merged_df['duration'])"
   ]
  },
  {
   "cell_type": "markdown",
   "id": "cb840d66",
   "metadata": {},
   "source": [
    "5.2 Calculating revenue"
   ]
  },
  {
   "cell_type": "code",
   "execution_count": 24,
   "id": "86cd720d",
   "metadata": {},
   "outputs": [],
   "source": [
    "merged_df['revenue'] = (\n",
    "    merged_df['rounded_duration'] * merged_df['minute_price'] +\n",
    "    merged_df['start_ride_price']\n",
    ")"
   ]
  },
  {
   "cell_type": "markdown",
   "id": "2928a1cb",
   "metadata": {},
   "source": [
    "5.3 Aggregating data by users and months"
   ]
  },
  {
   "cell_type": "code",
   "execution_count": 25,
   "id": "10444bc9",
   "metadata": {},
   "outputs": [
    {
     "data": {
      "text/html": [
       "<div>\n",
       "<style scoped>\n",
       "    .dataframe tbody tr th:only-of-type {\n",
       "        vertical-align: middle;\n",
       "    }\n",
       "\n",
       "    .dataframe tbody tr th {\n",
       "        vertical-align: top;\n",
       "    }\n",
       "\n",
       "    .dataframe thead th {\n",
       "        text-align: right;\n",
       "    }\n",
       "</style>\n",
       "<table border=\"1\" class=\"dataframe\">\n",
       "  <thead>\n",
       "    <tr style=\"text-align: right;\">\n",
       "      <th></th>\n",
       "      <th>user_id</th>\n",
       "      <th>month</th>\n",
       "      <th>total_distance</th>\n",
       "      <th>total_rides</th>\n",
       "      <th>total_duration</th>\n",
       "      <th>total_revenue</th>\n",
       "    </tr>\n",
       "  </thead>\n",
       "  <tbody>\n",
       "    <tr>\n",
       "      <th>0</th>\n",
       "      <td>1</td>\n",
       "      <td>1</td>\n",
       "      <td>7027.511294</td>\n",
       "      <td>2</td>\n",
       "      <td>42.0</td>\n",
       "      <td>252.0</td>\n",
       "    </tr>\n",
       "    <tr>\n",
       "      <th>1</th>\n",
       "      <td>1</td>\n",
       "      <td>4</td>\n",
       "      <td>754.159807</td>\n",
       "      <td>1</td>\n",
       "      <td>7.0</td>\n",
       "      <td>42.0</td>\n",
       "    </tr>\n",
       "    <tr>\n",
       "      <th>2</th>\n",
       "      <td>1</td>\n",
       "      <td>8</td>\n",
       "      <td>6723.470560</td>\n",
       "      <td>2</td>\n",
       "      <td>46.0</td>\n",
       "      <td>276.0</td>\n",
       "    </tr>\n",
       "    <tr>\n",
       "      <th>3</th>\n",
       "      <td>1</td>\n",
       "      <td>10</td>\n",
       "      <td>5809.911100</td>\n",
       "      <td>2</td>\n",
       "      <td>32.0</td>\n",
       "      <td>192.0</td>\n",
       "    </tr>\n",
       "    <tr>\n",
       "      <th>4</th>\n",
       "      <td>1</td>\n",
       "      <td>11</td>\n",
       "      <td>7003.499363</td>\n",
       "      <td>3</td>\n",
       "      <td>56.0</td>\n",
       "      <td>336.0</td>\n",
       "    </tr>\n",
       "    <tr>\n",
       "      <th>...</th>\n",
       "      <td>...</td>\n",
       "      <td>...</td>\n",
       "      <td>...</td>\n",
       "      <td>...</td>\n",
       "      <td>...</td>\n",
       "      <td>...</td>\n",
       "    </tr>\n",
       "    <tr>\n",
       "      <th>11326</th>\n",
       "      <td>1534</td>\n",
       "      <td>6</td>\n",
       "      <td>3409.468534</td>\n",
       "      <td>2</td>\n",
       "      <td>26.0</td>\n",
       "      <td>308.0</td>\n",
       "    </tr>\n",
       "    <tr>\n",
       "      <th>11327</th>\n",
       "      <td>1534</td>\n",
       "      <td>8</td>\n",
       "      <td>7622.453034</td>\n",
       "      <td>2</td>\n",
       "      <td>48.0</td>\n",
       "      <td>484.0</td>\n",
       "    </tr>\n",
       "    <tr>\n",
       "      <th>11328</th>\n",
       "      <td>1534</td>\n",
       "      <td>9</td>\n",
       "      <td>4928.173852</td>\n",
       "      <td>1</td>\n",
       "      <td>23.0</td>\n",
       "      <td>234.0</td>\n",
       "    </tr>\n",
       "    <tr>\n",
       "      <th>11329</th>\n",
       "      <td>1534</td>\n",
       "      <td>11</td>\n",
       "      <td>13350.015305</td>\n",
       "      <td>4</td>\n",
       "      <td>78.0</td>\n",
       "      <td>824.0</td>\n",
       "    </tr>\n",
       "    <tr>\n",
       "      <th>11330</th>\n",
       "      <td>1534</td>\n",
       "      <td>12</td>\n",
       "      <td>2371.711192</td>\n",
       "      <td>1</td>\n",
       "      <td>16.0</td>\n",
       "      <td>178.0</td>\n",
       "    </tr>\n",
       "  </tbody>\n",
       "</table>\n",
       "<p>11331 rows × 6 columns</p>\n",
       "</div>"
      ],
      "text/plain": [
       "       user_id  month  total_distance  total_rides  total_duration  \\\n",
       "0            1      1     7027.511294            2            42.0   \n",
       "1            1      4      754.159807            1             7.0   \n",
       "2            1      8     6723.470560            2            46.0   \n",
       "3            1     10     5809.911100            2            32.0   \n",
       "4            1     11     7003.499363            3            56.0   \n",
       "...        ...    ...             ...          ...             ...   \n",
       "11326     1534      6     3409.468534            2            26.0   \n",
       "11327     1534      8     7622.453034            2            48.0   \n",
       "11328     1534      9     4928.173852            1            23.0   \n",
       "11329     1534     11    13350.015305            4            78.0   \n",
       "11330     1534     12     2371.711192            1            16.0   \n",
       "\n",
       "       total_revenue  \n",
       "0              252.0  \n",
       "1               42.0  \n",
       "2              276.0  \n",
       "3              192.0  \n",
       "4              336.0  \n",
       "...              ...  \n",
       "11326          308.0  \n",
       "11327          484.0  \n",
       "11328          234.0  \n",
       "11329          824.0  \n",
       "11330          178.0  \n",
       "\n",
       "[11331 rows x 6 columns]"
      ]
     },
     "execution_count": 25,
     "metadata": {},
     "output_type": "execute_result"
    }
   ],
   "source": [
    "revenue_df = merged_df.groupby(['user_id', 'month']).agg(\n",
    "    total_distance=('distance', 'sum'),\n",
    "    total_rides=('user_id', 'count'),\n",
    "    total_duration=('rounded_duration', 'sum'),\n",
    "    total_revenue=('revenue', 'sum')\n",
    ").reset_index()\n",
    "\n",
    "revenue_df"
   ]
  },
  {
   "cell_type": "markdown",
   "id": "41545ac0",
   "metadata": {},
   "source": [
    "#### Step 6. Hypothesis testing"
   ]
  },
  {
   "cell_type": "markdown",
   "id": "5a5ee352",
   "metadata": {},
   "source": [
    "6.1"
   ]
  },
  {
   "cell_type": "code",
   "execution_count": 26,
   "id": "23ea867b",
   "metadata": {},
   "outputs": [
    {
     "data": {
      "text/plain": [
       "(12.624854943926593, 2.3629358507402705e-36)"
      ]
     },
     "execution_count": 26,
     "metadata": {},
     "output_type": "execute_result"
    }
   ],
   "source": [
    "\n",
    "# Separation of data between users with and without subscription\n",
    "free_users_duration = merged_df[merged_df['subscription_type'] == 'free']['rounded_duration']\n",
    "ultra_users_duration = merged_df[merged_df['subscription_type'] == 'ultra']['rounded_duration']\n",
    "\n",
    "# Hypothesis Test: Do Subscribers Spend More Time on Trips?\n",
    "# Null Hypothesis (H0): Average Trip Duration is the Same for Both Groups\n",
    "# Alternative Hypothesis (H1): Average Trip Duration is Longer for Subscribers\n",
    "\n",
    "t_stat, p_value = st.ttest_ind(ultra_users_duration, free_users_duration, equal_var=False)\n",
    "\n",
    "# Output of test results\n",
    "t_stat, p_value\n"
   ]
  },
  {
   "cell_type": "markdown",
   "id": "a1315f54",
   "metadata": {},
   "source": [
    "Hypothesis Test Results:\n",
    "\n",
    "t-statistic: 12.62\n",
    "p-value: ≈ 2.36e-36 (very close to zero)\n",
    "Since the p-value is significantly less than 0.05, we reject the null hypothesis. This means that users with a subscription do spend more time traveling than users without a subscription."
   ]
  },
  {
   "cell_type": "markdown",
   "id": "e36fd306",
   "metadata": {},
   "source": [
    "6.2"
   ]
  },
  {
   "cell_type": "code",
   "execution_count": 27,
   "id": "f39750ea",
   "metadata": {},
   "outputs": [
    {
     "data": {
      "text/plain": [
       "(3115.4453880370247, -1.402123166869486, 0.08046311521502145)"
      ]
     },
     "execution_count": 27,
     "metadata": {},
     "output_type": "execute_result"
    }
   ],
   "source": [
    "# Hypothesis Test: Average Follower Distance <= 3130 Meters\n",
    "# Null Hypothesis (H0): Average Follower Distance >= 3130 Meters\n",
    "# Alternative Hypothesis (H1): Average Follower Distance < 3130 Meters\n",
    "\n",
    "ultra_users_distance = merged_df[merged_df['subscription_type'] == 'ultra']['distance']\n",
    "mean_distance = ultra_users_distance.mean()\n",
    "\n",
    "t_stat, p_value = st.ttest_1samp(ultra_users_distance, 3130, alternative='less')\n",
    "\n",
    "# Output of test results\n",
    "mean_distance, t_stat, p_value"
   ]
  },
  {
   "cell_type": "markdown",
   "id": "bdcb43df",
   "metadata": {},
   "source": [
    "Результаты проверки гипотезы:\n",
    "\n",
    "Среднее расстояние поездки подписчиков: 3115.45 метров\n",
    "t-статистика: -1.40\n",
    "p-значение: 0.080\n",
    "Так как p-значение (0.080) больше 0.05, мы не можем отвергнуть нулевую гипотезу. \n",
    "    \n",
    "Это означает, что у нас нет оснований отвергать нулевую гипотезу, среднее расстояние, которое проезжают подписчики, не превышает 3130 м (Т.к. нулевая гипотеза гласит: среднее расстояние подписчиков больше или равно 3130 метрам).\n"
   ]
  },
  {
   "cell_type": "markdown",
   "id": "6db34686",
   "metadata": {},
   "source": [
    "6.3"
   ]
  },
  {
   "cell_type": "code",
   "execution_count": 28,
   "id": "cb3f3b9d",
   "metadata": {},
   "outputs": [
    {
     "data": {
      "text/plain": [
       "(-63.72608462090616, 1.0)"
      ]
     },
     "execution_count": 28,
     "metadata": {},
     "output_type": "execute_result"
    }
   ],
   "source": [
    "# Hypothesis Test: Monthly revenue from users with a subscription is higher than without a subscription\n",
    "\n",
    "# Revenue grouping by subscription and month\n",
    "monthly_revenue = revenue_df.merge(users_df[['user_id', 'subscription_type']], on='user_id', how='left')\n",
    "\n",
    "free_revenue = monthly_revenue[monthly_revenue['subscription_type'] == 'free']['total_revenue']\n",
    "ultra_revenue = monthly_revenue[monthly_revenue['subscription_type'] == 'ultra']['total_revenue']\n",
    "\n",
    "# Null Hypothesis (H0): Average monthly revenue is the same for both groups\n",
    "# Alternative Hypothesis (H1): Average revenue from subscribers is higher\n",
    "\n",
    "t_stat, p_value = st.ttest_ind(ultra_revenue, free_revenue, equal_var=False, alternative='greater')\n",
    "\n",
    "# Output of test results\n",
    "t_stat, p_value\n"
   ]
  },
  {
   "cell_type": "markdown",
   "id": "587e1c2e",
   "metadata": {},
   "source": [
    "Hypothesis Test Results:\n",
    "\n",
    "t-statistic: -63.73\n",
    "p-value: 1.0\n",
    "Since the t-statistic is negative and the p-value is 1.0, it means that the monthly revenue from users with a subscription is not higher than that of users without a subscription. On the contrary, judging by the result, users without a subscription bring in more revenue.\n",
    "\n",
    "This may be due to the fact that users without a subscription have a higher cost of rides due to the starting fee and the increased rate per minute."
   ]
  },
  {
   "cell_type": "markdown",
   "id": "d859f8f1",
   "metadata": {},
   "source": [
    "6.4\n",
    "\n",
    "Hypothetically, if we had data on the number of support requests before and after the server upgrade for each user, we could use a paired t-test to test the hypothesis that requests decreased.\n",
    "\n",
    "Test approach:\n",
    "Null hypothesis (H0): The average number of user requests after the upgrade did not change or increased.\n",
    "Alternative hypothesis (H1): The average number of user requests after the upgrade decreased.\n",
    "Test:\n",
    "We would take two data sets: the number of requests before the upgrade and after the upgrade.\n",
    "Since these are the same users, we would use a paired t-test (stats.ttest_rel()), comparing the means of two dependent samples.\n",
    "If the p-value < 0.05, we reject H0 and conclude that the server upgrade led to a significant decrease in support requests.\n",
    "If p-value ≥ 0.05, we cannot reject H0, which means that upgrading the servers did not lead to a significant change in the number of hits."
   ]
  },
  {
   "cell_type": "markdown",
   "id": "05807c67",
   "metadata": {},
   "source": [
    "**Inference to Step 6:**\n",
    "\n",
    "1. Do subscribers spend more time commuting?\n",
    "\n",
    "- Yes, subscribers spend significantly more time commuting (p-value ≈ 2.36e-36).\n",
    "\n",
    "2. Is the average subscriber commute distance greater than 3,130 m?\n",
    "\n",
    "- The average subscriber commute distance is not significantly less than 3,130 m (p-value = 0.08), but there is insufficient evidence to support this.\n",
    "\n",
    "3. Are subscribers generating more revenue than non-subscribers?\n",
    "\n",
    "- No, subscribers generating less revenue than non-subscribers (p-value = 1.0). This is because non-subscribers pay more for their commutes.\n",
    "\n",
    "4. Has the number of support calls decreased since the server update?\n",
    "\n",
    "- Hypothetically, we would use a paired t-test to test this. If the p-value were less than 0.05, we could say that upgrading the servers did indeed reduce the number of hits."
   ]
  },
  {
   "cell_type": "markdown",
   "id": "61213c5e",
   "metadata": {},
   "source": [
    "#### Step 7. Distributions"
   ]
  },
  {
   "cell_type": "markdown",
   "id": "c9551096",
   "metadata": {},
   "source": [
    "Task 7.1: Calculating the minimum number of promo codes"
   ]
  },
  {
   "cell_type": "code",
   "execution_count": 29,
   "id": "29027dcc",
   "metadata": {},
   "outputs": [
    {
     "name": "stderr",
     "output_type": "stream",
     "text": [
      "C:\\Users\\max\\anaconda3\\envs\\practicum\\lib\\site-packages\\scipy\\stats\\_discrete_distns.py:69: RuntimeWarning: divide by zero encountered in _binom_pdf\n",
      "  return _boost._binom_pdf(x, n, p)\n"
     ]
    },
    {
     "data": {
      "image/png": "[encoded data removed]",
      "text/plain": [
       "<Figure size 1000x500 with 1 Axes>"
      ]
     },
     "metadata": {},
     "output_type": "display_data"
    },
    {
     "data": {
      "text/plain": [
       "850"
      ]
     },
     "execution_count": 29,
     "metadata": {},
     "output_type": "execute_result"
    }
   ],
   "source": [
    "# # Given:\n",
    "prob_success = 0.1  # The likelihood that a user will renew their subscription\n",
    "target_successes = 100  # Minimum 100 renewals required\n",
    "confidence = 0.95  # Required probability (1 - probability of failure)\n",
    "\n",
    "# Inverse Binomial Distribution Function for Determining the Minimum Number of Mailings\n",
    "min_promocodes = st.binom.ppf(confidence, np.arange(100, 5000), prob_success)\n",
    "min_promocodes = np.min(np.arange(100, 5000)[min_promocodes >= target_successes])\n",
    "\n",
    "# Distribution visualization\n",
    "n_trials = int(min_promocodes)\n",
    "x = np.arange(0, n_trials)\n",
    "binom_dist = st.binom.pmf(x, n_trials, prob_success)\n",
    "\n",
    "plt.figure(figsize=(10, 5))\n",
    "plt.bar(x, binom_dist, color='blue', alpha=0.7)\n",
    "plt.axvline(x=target_successes, color='red', linestyle='dashed', label=\"Требуемые 100 продлений\")\n",
    "plt.xlabel(\"Number of users who renewed their subscription\")\n",
    "plt.ylabel(\"Probability\")\n",
    "plt.title(\"Distribution of the number of subscription renewals\")\n",
    "plt.legend()\n",
    "plt.grid(axis='y', linestyle='--', alpha=0.7)\n",
    "plt.show()\n",
    "\n",
    "# Output of the minimum number of mailings\n",
    "min_promocodes\n"
   ]
  },
  {
   "cell_type": "markdown",
   "id": "09aff11b",
   "metadata": {},
   "source": [
    "In order to achieve a 95% probability of achieving the 100 subscription renewals target, you need to send out at least 850 promo codes."
   ]
  },
  {
   "cell_type": "markdown",
   "id": "d5f2ece0",
   "metadata": {},
   "source": [
    "Task 7.2: Calculate the probability that the notification will be opened by no more than 399.5 thousand users"
   ]
  },
  {
   "cell_type": "code",
   "execution_count": 30,
   "id": "5ae80931",
   "metadata": {},
   "outputs": [
    {
     "data": {
      "image/png": "[encoded data removed]",
      "text/plain": [
       "<Figure size 1000x500 with 1 Axes>"
      ]
     },
     "metadata": {},
     "output_type": "display_data"
    },
    {
     "data": {
      "text/plain": [
       "0.15371708296369768"
      ]
     },
     "execution_count": 30,
     "metadata": {},
     "output_type": "execute_result"
    }
   ],
   "source": [
    "# Given:\n",
    "total_notifications = 1_000_000  # Total number of notifications sent\n",
    "open_rate = 0.4  # Probability of notification being opened\n",
    "expected_opens = total_notifications * open_rate  # Average value\n",
    "\n",
    "# Normal distribution approximation\n",
    "std_dev = np.sqrt(total_notifications * open_rate * (1 - open_rate))  # Standard deviation\n",
    "threshold = 399_500  # Threshold value\n",
    "\n",
    "# Calculating Probability Using Normal Distribution\n",
    "probability = st.norm.cdf(threshold, loc=expected_opens, scale=std_dev)\n",
    "\n",
    "# Distribution visualization\n",
    "x = np.linspace(expected_opens - 4 * std_dev, expected_opens + 4 * std_dev, 1000)\n",
    "y = st.norm.pdf(x, expected_opens, std_dev)\n",
    "\n",
    "plt.figure(figsize=(10, 5))\n",
    "plt.plot(x, y, label=\"Distribution of notification opens\", color=\"blue\")\n",
    "plt.axvline(threshold, color='red', linestyle='dashed', label=\"399.5 тыс. открытий\")\n",
    "plt.fill_between(x, y, where=(x <= threshold), color='blue', alpha=0.3)\n",
    "plt.xlabel(\"Number of openings\")\n",
    "plt.ylabel(\"Probability density\")\n",
    "plt.title(\"Approximating the distribution of push notification opens\")\n",
    "plt.legend()\n",
    "plt.grid(axis='y', linestyle='--', alpha=0.7)\n",
    "plt.show()\n",
    "\n",
    "# Probability derivation\n",
    "probability\n"
   ]
  },
  {
   "cell_type": "markdown",
   "id": "90b149e4",
   "metadata": {},
   "source": [
    "The probability that the notification will be opened by no more than 399.5 thousand users is ≈15.37%. This means that in most cases (≈84.63%) the number of opens will be higher than 399.5 thousand."
   ]
  },
  {
   "cell_type": "markdown",
   "id": "1a4a82bb",
   "metadata": {},
   "source": [
    "**Conclusion to step 7:**\n",
    "\n",
    "1. Minimum number of promo codes to fulfill the plan for 100 subscription renewals\n",
    "\n",
    "- A minimum of 850 promo codes must be sent out to fulfill the plan with a 95% probability.\n",
    "\n",
    "2. The probability that push notifications will be opened by no more than 399.5 thousand users\n",
    "\n",
    "- The probability of this is ≈15.37%, which means that most often there will be more opens.\n"
   ]
  },
  {
   "cell_type": "markdown",
   "id": "6dc73877",
   "metadata": {},
   "source": [
    "#### Step 8. General conclusion\n",
    "    \n",
    "A comprehensive analysis of user, ride and subscription data for the GoFast service was conducted.\n",
    "\n",
    "Key findings:\n",
    "\n",
    "- Subscribers ride longer, but do not generate more revenue — subscription pricing should be reviewed.\n",
    "\n",
    "- The average distance of subscriber rides does not differ much from the optimal wear of scooters (3130 m).\n",
    "\n",
    "- Revenue from subscribers turned out to be lower than from users without a subscription — it may be worth changing the subscription terms, for example, adding additional benefits.\n",
    "\n",
    "- A successful marketing campaign will require at least 850 promo codes.\n",
    "\n",
    "- The probability that push notifications will be opened by less than 399.5 thousand users is 15.37%, that is, most often there will be more opens.\n",
    "\n",
    "This analysis can help optimize the Ultra subscription, adjust marketing strategies and increase the service's revenue.\n",
    "    \n",
    "    \n"
   ]
  },
  {
   "cell_type": "code",
   "execution_count": null,
   "id": "bd4e9011",
   "metadata": {},
   "outputs": [],
   "source": []
  }
 ],
 "metadata": {
  "ExecuteTimeLog": [
   {
    "duration": 436,
    "start_time": "2025-03-06T00:27:33.881Z"
   },
   {
    "duration": 95,
    "start_time": "2025-03-06T00:28:39.529Z"
   },
   {
    "duration": 70,
    "start_time": "2025-03-06T00:29:01.827Z"
   },
   {
    "duration": 17,
    "start_time": "2025-03-06T00:29:18.332Z"
   },
   {
    "duration": 10,
    "start_time": "2025-03-06T00:29:33.604Z"
   },
   {
    "duration": 7,
    "start_time": "2025-03-06T00:29:58.277Z"
   },
   {
    "duration": 3,
    "start_time": "2025-03-06T00:31:36.826Z"
   },
   {
    "duration": 27,
    "start_time": "2025-03-06T00:33:25.534Z"
   },
   {
    "duration": 73,
    "start_time": "2025-03-06T00:35:08.852Z"
   },
   {
    "duration": 4,
    "start_time": "2025-03-06T00:35:13.400Z"
   },
   {
    "duration": 3,
    "start_time": "2025-03-06T00:35:42.562Z"
   },
   {
    "duration": 3,
    "start_time": "2025-03-06T00:35:44.986Z"
   },
   {
    "duration": 9,
    "start_time": "2025-03-06T00:36:16.754Z"
   },
   {
    "duration": 12,
    "start_time": "2025-03-06T00:36:20.649Z"
   },
   {
    "duration": 3,
    "start_time": "2025-03-06T00:36:37.345Z"
   },
   {
    "duration": 4,
    "start_time": "2025-03-06T00:36:50.061Z"
   },
   {
    "duration": 5,
    "start_time": "2025-03-06T00:37:02.374Z"
   },
   {
    "duration": 4,
    "start_time": "2025-03-06T00:37:04.556Z"
   },
   {
    "duration": 7,
    "start_time": "2025-03-06T00:40:10.067Z"
   },
   {
    "duration": 2,
    "start_time": "2025-03-06T00:40:23.538Z"
   },
   {
    "duration": 8,
    "start_time": "2025-03-06T00:41:38.779Z"
   },
   {
    "duration": 9,
    "start_time": "2025-03-06T00:41:50.940Z"
   },
   {
    "duration": 9,
    "start_time": "2025-03-06T00:41:57.724Z"
   },
   {
    "duration": 4,
    "start_time": "2025-03-06T00:42:14.515Z"
   },
   {
    "duration": 7,
    "start_time": "2025-03-06T00:42:31.409Z"
   },
   {
    "duration": 10,
    "start_time": "2025-03-06T00:45:12.946Z"
   },
   {
    "duration": 6,
    "start_time": "2025-03-06T00:45:30.667Z"
   },
   {
    "duration": 6,
    "start_time": "2025-03-06T00:45:46.908Z"
   },
   {
    "duration": 18,
    "start_time": "2025-03-06T00:47:28.746Z"
   },
   {
    "duration": 12,
    "start_time": "2025-03-06T00:47:50.783Z"
   },
   {
    "duration": 18,
    "start_time": "2025-03-06T00:48:06.011Z"
   },
   {
    "duration": 7,
    "start_time": "2025-03-06T00:48:18.471Z"
   },
   {
    "duration": 6,
    "start_time": "2025-03-06T01:05:34.585Z"
   },
   {
    "duration": 6,
    "start_time": "2025-03-06T01:05:36.907Z"
   },
   {
    "duration": 6,
    "start_time": "2025-03-06T01:11:16.901Z"
   },
   {
    "duration": 6,
    "start_time": "2025-03-06T01:11:34.558Z"
   },
   {
    "duration": 7,
    "start_time": "2025-03-06T01:12:42.402Z"
   },
   {
    "duration": 9,
    "start_time": "2025-03-06T01:13:35.729Z"
   },
   {
    "duration": 7,
    "start_time": "2025-03-06T01:13:56.593Z"
   },
   {
    "duration": 6,
    "start_time": "2025-03-06T01:14:12.792Z"
   },
   {
    "duration": 1030,
    "start_time": "2025-03-06T01:20:48.720Z"
   },
   {
    "duration": 7,
    "start_time": "2025-03-06T01:22:19.120Z"
   },
   {
    "duration": 5,
    "start_time": "2025-03-06T01:23:08.174Z"
   },
   {
    "duration": 171,
    "start_time": "2025-03-06T01:23:42.596Z"
   },
   {
    "duration": 7,
    "start_time": "2025-03-06T01:25:43.597Z"
   },
   {
    "duration": 3,
    "start_time": "2025-03-06T01:26:28.394Z"
   },
   {
    "duration": 155,
    "start_time": "2025-03-06T01:28:14.190Z"
   },
   {
    "duration": 114,
    "start_time": "2025-03-06T01:29:09.682Z"
   },
   {
    "duration": 116,
    "start_time": "2025-03-06T01:29:40.353Z"
   },
   {
    "duration": 94,
    "start_time": "2025-03-06T01:30:41.026Z"
   },
   {
    "duration": 81,
    "start_time": "2025-03-06T01:30:55.827Z"
   },
   {
    "duration": 13,
    "start_time": "2025-03-06T01:34:19.855Z"
   },
   {
    "duration": 854,
    "start_time": "2025-03-06T01:34:29.810Z"
   },
   {
    "duration": 182,
    "start_time": "2025-03-06T01:34:39.647Z"
   },
   {
    "duration": 9,
    "start_time": "2025-03-06T01:36:04.020Z"
   },
   {
    "duration": 269,
    "start_time": "2025-03-06T01:36:30.677Z"
   },
   {
    "duration": 177,
    "start_time": "2025-03-06T01:37:07.325Z"
   },
   {
    "duration": 10,
    "start_time": "2025-03-06T01:37:45.373Z"
   },
   {
    "duration": 208,
    "start_time": "2025-03-06T01:39:14.858Z"
   },
   {
    "duration": 227,
    "start_time": "2025-03-06T01:43:25.473Z"
   },
   {
    "duration": 8,
    "start_time": "2025-03-06T01:43:35.134Z"
   },
   {
    "duration": 204,
    "start_time": "2025-03-06T01:43:39.122Z"
   },
   {
    "duration": 18,
    "start_time": "2025-03-06T01:47:52.976Z"
   },
   {
    "duration": 12,
    "start_time": "2025-03-06T02:06:11.655Z"
   },
   {
    "duration": 1488,
    "start_time": "2025-03-06T03:23:17.361Z"
   },
   {
    "duration": 1317,
    "start_time": "2025-03-06T03:23:22.825Z"
   },
   {
    "duration": 68,
    "start_time": "2025-03-06T03:23:24.145Z"
   },
   {
    "duration": 13,
    "start_time": "2025-03-06T03:23:24.215Z"
   },
   {
    "duration": 9,
    "start_time": "2025-03-06T03:23:24.230Z"
   },
   {
    "duration": 9,
    "start_time": "2025-03-06T03:23:24.241Z"
   },
   {
    "duration": 28,
    "start_time": "2025-03-06T03:23:24.252Z"
   },
   {
    "duration": 3,
    "start_time": "2025-03-06T03:23:24.282Z"
   },
   {
    "duration": 10,
    "start_time": "2025-03-06T03:23:24.287Z"
   },
   {
    "duration": 21,
    "start_time": "2025-03-06T03:23:24.298Z"
   },
   {
    "duration": 6,
    "start_time": "2025-03-06T03:23:24.321Z"
   },
   {
    "duration": 6,
    "start_time": "2025-03-06T03:23:24.328Z"
   },
   {
    "duration": 9,
    "start_time": "2025-03-06T03:23:24.335Z"
   },
   {
    "duration": 16,
    "start_time": "2025-03-06T03:23:24.346Z"
   },
   {
    "duration": 7,
    "start_time": "2025-03-06T03:23:24.363Z"
   },
   {
    "duration": 53,
    "start_time": "2025-03-06T03:23:24.372Z"
   },
   {
    "duration": 47,
    "start_time": "2025-03-06T03:23:24.427Z"
   },
   {
    "duration": 8,
    "start_time": "2025-03-06T03:23:24.476Z"
   },
   {
    "duration": 14,
    "start_time": "2025-03-06T03:23:24.486Z"
   },
   {
    "duration": 5,
    "start_time": "2025-03-06T03:23:24.502Z"
   },
   {
    "duration": 173,
    "start_time": "2025-03-06T03:23:24.508Z"
   },
   {
    "duration": 88,
    "start_time": "2025-03-06T03:23:24.683Z"
   },
   {
    "duration": 9,
    "start_time": "2025-03-06T03:23:24.773Z"
   },
   {
    "duration": 207,
    "start_time": "2025-03-06T03:23:24.784Z"
   },
   {
    "duration": 9,
    "start_time": "2025-03-06T03:23:24.993Z"
   },
   {
    "duration": 219,
    "start_time": "2025-03-06T03:23:25.003Z"
   },
   {
    "duration": 8,
    "start_time": "2025-03-06T03:23:25.224Z"
   },
   {
    "duration": 228,
    "start_time": "2025-03-06T03:23:25.233Z"
   },
   {
    "duration": 17,
    "start_time": "2025-03-06T03:23:25.464Z"
   },
   {
    "duration": 47,
    "start_time": "2025-03-06T03:23:25.483Z"
   },
   {
    "duration": 1188,
    "start_time": "2025-03-06T03:23:52.573Z"
   },
   {
    "duration": 115,
    "start_time": "2025-03-06T03:25:05.887Z"
   },
   {
    "duration": 18,
    "start_time": "2025-03-06T03:27:46.395Z"
   },
   {
    "duration": 19,
    "start_time": "2025-03-06T03:27:54.770Z"
   },
   {
    "duration": 15,
    "start_time": "2025-03-06T03:29:03.417Z"
   },
   {
    "duration": 1348,
    "start_time": "2025-03-06T21:39:15.627Z"
   },
   {
    "duration": 67,
    "start_time": "2025-03-06T21:39:16.977Z"
   },
   {
    "duration": 12,
    "start_time": "2025-03-06T21:39:17.046Z"
   },
   {
    "duration": 9,
    "start_time": "2025-03-06T21:39:17.060Z"
   },
   {
    "duration": 17,
    "start_time": "2025-03-06T21:39:17.071Z"
   },
   {
    "duration": 23,
    "start_time": "2025-03-06T21:39:17.090Z"
   },
   {
    "duration": 4,
    "start_time": "2025-03-06T21:39:17.115Z"
   },
   {
    "duration": 11,
    "start_time": "2025-03-06T21:39:17.121Z"
   },
   {
    "duration": 6,
    "start_time": "2025-03-06T21:39:17.133Z"
   },
   {
    "duration": 5,
    "start_time": "2025-03-06T21:39:17.162Z"
   },
   {
    "duration": 5,
    "start_time": "2025-03-06T21:39:17.168Z"
   },
   {
    "duration": 6,
    "start_time": "2025-03-06T21:39:17.175Z"
   },
   {
    "duration": 11,
    "start_time": "2025-03-06T21:39:17.182Z"
   },
   {
    "duration": 5,
    "start_time": "2025-03-06T21:39:17.195Z"
   },
   {
    "duration": 9,
    "start_time": "2025-03-06T21:39:17.202Z"
   },
   {
    "duration": 13,
    "start_time": "2025-03-06T21:39:17.213Z"
   },
   {
    "duration": 33,
    "start_time": "2025-03-06T21:39:17.228Z"
   },
   {
    "duration": 9,
    "start_time": "2025-03-06T21:39:17.263Z"
   },
   {
    "duration": 12,
    "start_time": "2025-03-06T21:39:17.273Z"
   },
   {
    "duration": 165,
    "start_time": "2025-03-06T21:39:17.287Z"
   },
   {
    "duration": 77,
    "start_time": "2025-03-06T21:39:17.454Z"
   },
   {
    "duration": 8,
    "start_time": "2025-03-06T21:39:17.532Z"
   },
   {
    "duration": 170,
    "start_time": "2025-03-06T21:39:17.541Z"
   },
   {
    "duration": 8,
    "start_time": "2025-03-06T21:39:17.712Z"
   },
   {
    "duration": 201,
    "start_time": "2025-03-06T21:39:17.721Z"
   },
   {
    "duration": 8,
    "start_time": "2025-03-06T21:39:17.923Z"
   },
   {
    "duration": 199,
    "start_time": "2025-03-06T21:39:17.932Z"
   },
   {
    "duration": 27,
    "start_time": "2025-03-06T21:39:18.134Z"
   },
   {
    "duration": 9,
    "start_time": "2025-03-06T21:39:18.162Z"
   },
   {
    "duration": 1046,
    "start_time": "2025-03-06T21:39:18.172Z"
   },
   {
    "duration": 13,
    "start_time": "2025-03-06T21:39:19.219Z"
   },
   {
    "duration": 114,
    "start_time": "2025-03-06T21:39:19.233Z"
   },
   {
    "duration": 15,
    "start_time": "2025-03-06T21:39:30.640Z"
   },
   {
    "duration": 35,
    "start_time": "2025-03-06T22:26:00.969Z"
   },
   {
    "duration": 16,
    "start_time": "2025-03-06T22:26:55.837Z"
   },
   {
    "duration": 1570,
    "start_time": "2025-03-06T22:27:12.014Z"
   },
   {
    "duration": 10,
    "start_time": "2025-03-06T22:36:39.884Z"
   },
   {
    "duration": 1192,
    "start_time": "2025-03-06T22:36:53.197Z"
   },
   {
    "duration": 62,
    "start_time": "2025-03-06T22:36:54.391Z"
   },
   {
    "duration": 12,
    "start_time": "2025-03-06T22:36:54.454Z"
   },
   {
    "duration": 32,
    "start_time": "2025-03-06T22:36:54.468Z"
   },
   {
    "duration": 17,
    "start_time": "2025-03-06T22:36:54.502Z"
   },
   {
    "duration": 24,
    "start_time": "2025-03-06T22:36:54.521Z"
   },
   {
    "duration": 3,
    "start_time": "2025-03-06T22:36:54.547Z"
   },
   {
    "duration": 18,
    "start_time": "2025-03-06T22:36:54.552Z"
   },
   {
    "duration": 7,
    "start_time": "2025-03-06T22:36:54.572Z"
   },
   {
    "duration": 6,
    "start_time": "2025-03-06T22:36:54.582Z"
   },
   {
    "duration": 11,
    "start_time": "2025-03-06T22:36:54.589Z"
   },
   {
    "duration": 17,
    "start_time": "2025-03-06T22:36:54.601Z"
   },
   {
    "duration": 7,
    "start_time": "2025-03-06T22:36:54.620Z"
   },
   {
    "duration": 10,
    "start_time": "2025-03-06T22:36:54.628Z"
   },
   {
    "duration": 17,
    "start_time": "2025-03-06T22:36:54.639Z"
   },
   {
    "duration": 113,
    "start_time": "2025-03-06T22:36:54.658Z"
   },
   {
    "duration": 0,
    "start_time": "2025-03-06T22:36:54.772Z"
   },
   {
    "duration": 0,
    "start_time": "2025-03-06T22:36:54.773Z"
   },
   {
    "duration": 0,
    "start_time": "2025-03-06T22:36:54.774Z"
   },
   {
    "duration": 0,
    "start_time": "2025-03-06T22:36:54.775Z"
   },
   {
    "duration": 0,
    "start_time": "2025-03-06T22:36:54.776Z"
   },
   {
    "duration": 0,
    "start_time": "2025-03-06T22:36:54.777Z"
   },
   {
    "duration": 0,
    "start_time": "2025-03-06T22:36:54.778Z"
   },
   {
    "duration": 0,
    "start_time": "2025-03-06T22:36:54.779Z"
   },
   {
    "duration": 0,
    "start_time": "2025-03-06T22:36:54.780Z"
   },
   {
    "duration": 0,
    "start_time": "2025-03-06T22:36:54.781Z"
   },
   {
    "duration": 0,
    "start_time": "2025-03-06T22:36:54.782Z"
   },
   {
    "duration": 0,
    "start_time": "2025-03-06T22:36:54.783Z"
   },
   {
    "duration": 0,
    "start_time": "2025-03-06T22:36:54.784Z"
   },
   {
    "duration": 0,
    "start_time": "2025-03-06T22:36:54.785Z"
   },
   {
    "duration": 0,
    "start_time": "2025-03-06T22:36:54.786Z"
   },
   {
    "duration": 0,
    "start_time": "2025-03-06T22:36:54.787Z"
   },
   {
    "duration": 0,
    "start_time": "2025-03-06T22:36:54.788Z"
   },
   {
    "duration": 0,
    "start_time": "2025-03-06T22:36:54.789Z"
   },
   {
    "duration": 11,
    "start_time": "2025-03-06T22:38:07.038Z"
   },
   {
    "duration": 8,
    "start_time": "2025-03-06T22:38:54.448Z"
   },
   {
    "duration": 3,
    "start_time": "2025-03-06T22:40:40.579Z"
   },
   {
    "duration": 12,
    "start_time": "2025-03-06T22:41:07.366Z"
   },
   {
    "duration": 191,
    "start_time": "2025-03-06T22:41:19.671Z"
   },
   {
    "duration": 1511,
    "start_time": "2025-03-06T22:42:30.619Z"
   },
   {
    "duration": 82,
    "start_time": "2025-03-06T22:46:39.381Z"
   },
   {
    "duration": 213,
    "start_time": "2025-03-06T22:47:12.302Z"
   },
   {
    "duration": 544,
    "start_time": "2025-03-06T22:48:34.374Z"
   },
   {
    "duration": 473,
    "start_time": "2025-03-06T22:48:52.310Z"
   },
   {
    "duration": 94,
    "start_time": "2025-03-06T22:53:29.929Z"
   },
   {
    "duration": 14,
    "start_time": "2025-03-06T22:53:36.135Z"
   },
   {
    "duration": 29,
    "start_time": "2025-03-06T22:53:55.820Z"
   },
   {
    "duration": 13,
    "start_time": "2025-03-06T23:05:05.904Z"
   },
   {
    "duration": 22,
    "start_time": "2025-03-06T23:05:35.031Z"
   },
   {
    "duration": 26,
    "start_time": "2025-03-06T23:05:51.791Z"
   },
   {
    "duration": 15,
    "start_time": "2025-03-06T23:06:00.298Z"
   },
   {
    "duration": 10,
    "start_time": "2025-03-06T23:07:56.855Z"
   },
   {
    "duration": 27,
    "start_time": "2025-03-06T23:08:10.607Z"
   },
   {
    "duration": 587,
    "start_time": "2025-03-06T23:09:16.067Z"
   },
   {
    "duration": 48,
    "start_time": "2025-03-07T00:35:41.362Z"
   },
   {
    "duration": 1279,
    "start_time": "2025-03-07T00:35:51.896Z"
   },
   {
    "duration": 68,
    "start_time": "2025-03-07T00:35:53.177Z"
   },
   {
    "duration": 11,
    "start_time": "2025-03-07T00:35:53.247Z"
   },
   {
    "duration": 9,
    "start_time": "2025-03-07T00:35:53.260Z"
   },
   {
    "duration": 6,
    "start_time": "2025-03-07T00:35:53.271Z"
   },
   {
    "duration": 25,
    "start_time": "2025-03-07T00:35:53.279Z"
   },
   {
    "duration": 4,
    "start_time": "2025-03-07T00:35:53.306Z"
   },
   {
    "duration": 7,
    "start_time": "2025-03-07T00:35:53.311Z"
   },
   {
    "duration": 5,
    "start_time": "2025-03-07T00:35:53.320Z"
   },
   {
    "duration": 5,
    "start_time": "2025-03-07T00:35:53.327Z"
   },
   {
    "duration": 33,
    "start_time": "2025-03-07T00:35:53.334Z"
   },
   {
    "duration": 13,
    "start_time": "2025-03-07T00:35:53.369Z"
   },
   {
    "duration": 11,
    "start_time": "2025-03-07T00:35:53.384Z"
   },
   {
    "duration": 9,
    "start_time": "2025-03-07T00:35:53.396Z"
   },
   {
    "duration": 3,
    "start_time": "2025-03-07T00:35:53.406Z"
   },
   {
    "duration": 227,
    "start_time": "2025-03-07T00:35:53.410Z"
   },
   {
    "duration": 94,
    "start_time": "2025-03-07T00:35:53.638Z"
   },
   {
    "duration": 250,
    "start_time": "2025-03-07T00:35:53.733Z"
   },
   {
    "duration": 529,
    "start_time": "2025-03-07T00:35:53.985Z"
   },
   {
    "duration": 502,
    "start_time": "2025-03-07T00:35:54.516Z"
   },
   {
    "duration": 30,
    "start_time": "2025-03-07T00:35:55.020Z"
   },
   {
    "duration": 53,
    "start_time": "2025-03-07T00:35:55.052Z"
   },
   {
    "duration": 670,
    "start_time": "2025-03-07T00:35:55.106Z"
   },
   {
    "duration": 31,
    "start_time": "2025-03-07T00:35:55.777Z"
   },
   {
    "duration": 108,
    "start_time": "2025-03-07T00:35:55.810Z"
   },
   {
    "duration": 0,
    "start_time": "2025-03-07T00:35:55.920Z"
   },
   {
    "duration": 29,
    "start_time": "2025-03-07T00:37:56.163Z"
   },
   {
    "duration": 12,
    "start_time": "2025-03-07T00:38:09.820Z"
   },
   {
    "duration": 5,
    "start_time": "2025-03-07T00:38:17.522Z"
   },
   {
    "duration": 24,
    "start_time": "2025-03-07T00:42:54.317Z"
   },
   {
    "duration": 5,
    "start_time": "2025-03-07T00:42:59.733Z"
   },
   {
    "duration": 22,
    "start_time": "2025-03-07T00:43:12.932Z"
   },
   {
    "duration": 3,
    "start_time": "2025-03-07T00:45:16.992Z"
   },
   {
    "duration": 4,
    "start_time": "2025-03-07T00:45:18.105Z"
   },
   {
    "duration": 4,
    "start_time": "2025-03-07T00:45:21.289Z"
   },
   {
    "duration": 21,
    "start_time": "2025-03-07T00:45:22.228Z"
   },
   {
    "duration": 6,
    "start_time": "2025-03-07T00:45:25.073Z"
   },
   {
    "duration": 10,
    "start_time": "2025-03-07T00:48:17.578Z"
   },
   {
    "duration": 11,
    "start_time": "2025-03-07T00:49:26.595Z"
   },
   {
    "duration": 8,
    "start_time": "2025-03-07T00:49:30.033Z"
   },
   {
    "duration": 15,
    "start_time": "2025-03-07T00:51:07.090Z"
   },
   {
    "duration": 88,
    "start_time": "2025-03-07T00:51:09.649Z"
   },
   {
    "duration": 11,
    "start_time": "2025-03-07T00:59:46.799Z"
   },
   {
    "duration": 12,
    "start_time": "2025-03-07T01:00:35.207Z"
   },
   {
    "duration": 345,
    "start_time": "2025-03-07T01:00:56.922Z"
   },
   {
    "duration": 1598,
    "start_time": "2025-03-07T01:04:40.481Z"
   },
   {
    "duration": 1138,
    "start_time": "2025-03-07T01:44:28.728Z"
   },
   {
    "duration": 57,
    "start_time": "2025-03-07T01:44:29.868Z"
   },
   {
    "duration": 11,
    "start_time": "2025-03-07T01:44:29.927Z"
   },
   {
    "duration": 8,
    "start_time": "2025-03-07T01:44:29.939Z"
   },
   {
    "duration": 8,
    "start_time": "2025-03-07T01:44:29.948Z"
   },
   {
    "duration": 23,
    "start_time": "2025-03-07T01:44:29.957Z"
   },
   {
    "duration": 3,
    "start_time": "2025-03-07T01:44:29.982Z"
   },
   {
    "duration": 15,
    "start_time": "2025-03-07T01:44:29.987Z"
   },
   {
    "duration": 4,
    "start_time": "2025-03-07T01:44:30.004Z"
   },
   {
    "duration": 62,
    "start_time": "2025-03-07T01:44:30.010Z"
   },
   {
    "duration": 5,
    "start_time": "2025-03-07T01:44:30.074Z"
   },
   {
    "duration": 57,
    "start_time": "2025-03-07T01:44:30.080Z"
   },
   {
    "duration": 43,
    "start_time": "2025-03-07T01:44:30.139Z"
   },
   {
    "duration": 20,
    "start_time": "2025-03-07T01:44:30.185Z"
   },
   {
    "duration": 21,
    "start_time": "2025-03-07T01:44:30.207Z"
   },
   {
    "duration": 219,
    "start_time": "2025-03-07T01:44:30.230Z"
   },
   {
    "duration": 86,
    "start_time": "2025-03-07T01:44:30.451Z"
   },
   {
    "duration": 212,
    "start_time": "2025-03-07T01:44:30.538Z"
   },
   {
    "duration": 460,
    "start_time": "2025-03-07T01:44:30.752Z"
   },
   {
    "duration": 498,
    "start_time": "2025-03-07T01:44:31.214Z"
   },
   {
    "duration": 29,
    "start_time": "2025-03-07T01:44:31.713Z"
   },
   {
    "duration": 64,
    "start_time": "2025-03-07T01:44:31.744Z"
   },
   {
    "duration": 677,
    "start_time": "2025-03-07T01:44:31.810Z"
   },
   {
    "duration": 1532,
    "start_time": "2025-03-07T01:44:32.489Z"
   },
   {
    "duration": 0,
    "start_time": "2025-03-07T01:44:34.022Z"
   },
   {
    "duration": 0,
    "start_time": "2025-03-07T01:44:34.023Z"
   },
   {
    "duration": 0,
    "start_time": "2025-03-07T01:44:34.024Z"
   },
   {
    "duration": 0,
    "start_time": "2025-03-07T01:44:34.025Z"
   },
   {
    "duration": 0,
    "start_time": "2025-03-07T01:44:34.026Z"
   },
   {
    "duration": 0,
    "start_time": "2025-03-07T01:44:34.027Z"
   },
   {
    "duration": 0,
    "start_time": "2025-03-07T01:44:34.028Z"
   },
   {
    "duration": 0,
    "start_time": "2025-03-07T01:44:34.029Z"
   },
   {
    "duration": 4,
    "start_time": "2025-03-07T01:52:56.465Z"
   },
   {
    "duration": 5,
    "start_time": "2025-03-07T01:53:09.341Z"
   },
   {
    "duration": 22,
    "start_time": "2025-03-07T01:53:25.206Z"
   },
   {
    "duration": 5,
    "start_time": "2025-03-07T01:53:31.098Z"
   },
   {
    "duration": 32,
    "start_time": "2025-03-07T01:53:50.939Z"
   },
   {
    "duration": 11,
    "start_time": "2025-03-07T01:55:00.574Z"
   },
   {
    "duration": 8,
    "start_time": "2025-03-07T01:55:21.420Z"
   },
   {
    "duration": 15,
    "start_time": "2025-03-07T01:57:51.869Z"
   },
   {
    "duration": 1618,
    "start_time": "2025-03-07T02:03:12.789Z"
   },
   {
    "duration": 375,
    "start_time": "2025-03-07T02:05:25.169Z"
   },
   {
    "duration": 10,
    "start_time": "2025-03-07T02:11:42.421Z"
   },
   {
    "duration": 1268,
    "start_time": "2025-03-07T02:13:34.449Z"
   },
   {
    "duration": 68,
    "start_time": "2025-03-07T02:13:35.719Z"
   },
   {
    "duration": 11,
    "start_time": "2025-03-07T02:13:35.789Z"
   },
   {
    "duration": 8,
    "start_time": "2025-03-07T02:13:35.801Z"
   },
   {
    "duration": 23,
    "start_time": "2025-03-07T02:13:35.811Z"
   },
   {
    "duration": 25,
    "start_time": "2025-03-07T02:13:35.836Z"
   },
   {
    "duration": 12,
    "start_time": "2025-03-07T02:13:35.863Z"
   },
   {
    "duration": 13,
    "start_time": "2025-03-07T02:13:35.876Z"
   },
   {
    "duration": 9,
    "start_time": "2025-03-07T02:13:35.891Z"
   },
   {
    "duration": 20,
    "start_time": "2025-03-07T02:13:35.902Z"
   },
   {
    "duration": 30,
    "start_time": "2025-03-07T02:13:35.923Z"
   },
   {
    "duration": 36,
    "start_time": "2025-03-07T02:13:35.954Z"
   },
   {
    "duration": 14,
    "start_time": "2025-03-07T02:13:35.992Z"
   },
   {
    "duration": 3,
    "start_time": "2025-03-07T02:13:36.009Z"
   },
   {
    "duration": 203,
    "start_time": "2025-03-07T02:13:36.014Z"
   },
   {
    "duration": 98,
    "start_time": "2025-03-07T02:13:36.218Z"
   },
   {
    "duration": 211,
    "start_time": "2025-03-07T02:13:36.318Z"
   },
   {
    "duration": 483,
    "start_time": "2025-03-07T02:13:36.531Z"
   },
   {
    "duration": 498,
    "start_time": "2025-03-07T02:13:37.016Z"
   },
   {
    "duration": 30,
    "start_time": "2025-03-07T02:13:37.516Z"
   },
   {
    "duration": 22,
    "start_time": "2025-03-07T02:13:37.548Z"
   },
   {
    "duration": 674,
    "start_time": "2025-03-07T02:13:37.571Z"
   },
   {
    "duration": 4,
    "start_time": "2025-03-07T02:13:38.246Z"
   },
   {
    "duration": 16,
    "start_time": "2025-03-07T02:13:38.252Z"
   },
   {
    "duration": 30,
    "start_time": "2025-03-07T02:13:38.270Z"
   },
   {
    "duration": 11,
    "start_time": "2025-03-07T02:13:38.301Z"
   },
   {
    "duration": 7,
    "start_time": "2025-03-07T02:13:38.313Z"
   },
   {
    "duration": 22,
    "start_time": "2025-03-07T02:13:38.321Z"
   },
   {
    "duration": 1687,
    "start_time": "2025-03-07T02:13:38.344Z"
   },
   {
    "duration": 356,
    "start_time": "2025-03-07T02:13:40.032Z"
   },
   {
    "duration": 93,
    "start_time": "2025-03-07T19:10:03.371Z"
   },
   {
    "duration": 84,
    "start_time": "2025-03-07T19:54:50.436Z"
   },
   {
    "duration": 80,
    "start_time": "2025-03-07T19:54:53.865Z"
   },
   {
    "duration": 77,
    "start_time": "2025-03-07T19:56:47.713Z"
   },
   {
    "duration": 44,
    "start_time": "2025-03-07T20:01:36.652Z"
   },
   {
    "duration": 1373,
    "start_time": "2025-03-07T20:01:41.311Z"
   },
   {
    "duration": 59,
    "start_time": "2025-03-07T20:01:42.686Z"
   },
   {
    "duration": 12,
    "start_time": "2025-03-07T20:01:42.746Z"
   },
   {
    "duration": 51,
    "start_time": "2025-03-07T20:01:42.760Z"
   },
   {
    "duration": 8,
    "start_time": "2025-03-07T20:01:42.813Z"
   },
   {
    "duration": 24,
    "start_time": "2025-03-07T20:01:42.823Z"
   },
   {
    "duration": 7,
    "start_time": "2025-03-07T20:01:42.849Z"
   },
   {
    "duration": 8,
    "start_time": "2025-03-07T20:01:42.858Z"
   },
   {
    "duration": 5,
    "start_time": "2025-03-07T20:01:42.868Z"
   },
   {
    "duration": 5,
    "start_time": "2025-03-07T20:01:42.875Z"
   },
   {
    "duration": 8,
    "start_time": "2025-03-07T20:01:42.881Z"
   },
   {
    "duration": 10,
    "start_time": "2025-03-07T20:01:42.890Z"
   },
   {
    "duration": 7,
    "start_time": "2025-03-07T20:01:42.902Z"
   },
   {
    "duration": 3,
    "start_time": "2025-03-07T20:01:42.910Z"
   },
   {
    "duration": 221,
    "start_time": "2025-03-07T20:01:42.914Z"
   },
   {
    "duration": 94,
    "start_time": "2025-03-07T20:01:43.137Z"
   },
   {
    "duration": 215,
    "start_time": "2025-03-07T20:01:43.233Z"
   },
   {
    "duration": 481,
    "start_time": "2025-03-07T20:01:43.450Z"
   },
   {
    "duration": 480,
    "start_time": "2025-03-07T20:01:43.932Z"
   },
   {
    "duration": 30,
    "start_time": "2025-03-07T20:01:44.413Z"
   },
   {
    "duration": 76,
    "start_time": "2025-03-07T20:01:44.445Z"
   },
   {
    "duration": 701,
    "start_time": "2025-03-07T20:01:44.522Z"
   },
   {
    "duration": 4,
    "start_time": "2025-03-07T20:01:45.224Z"
   },
   {
    "duration": 84,
    "start_time": "2025-03-07T20:01:45.229Z"
   },
   {
    "duration": 43,
    "start_time": "2025-03-07T20:01:45.315Z"
   },
   {
    "duration": 12,
    "start_time": "2025-03-07T20:01:45.360Z"
   },
   {
    "duration": 7,
    "start_time": "2025-03-07T20:01:45.373Z"
   },
   {
    "duration": 14,
    "start_time": "2025-03-07T20:01:45.385Z"
   },
   {
    "duration": 1766,
    "start_time": "2025-03-07T20:01:45.401Z"
   },
   {
    "duration": 378,
    "start_time": "2025-03-07T20:01:47.169Z"
   },
   {
    "duration": 226,
    "start_time": "2025-03-07T20:02:10.135Z"
   },
   {
    "duration": 238,
    "start_time": "2025-03-07T20:02:16.399Z"
   },
   {
    "duration": 255,
    "start_time": "2025-03-07T20:02:22.043Z"
   },
   {
    "duration": 233,
    "start_time": "2025-03-07T20:02:29.016Z"
   },
   {
    "duration": 208,
    "start_time": "2025-03-07T20:02:35.423Z"
   },
   {
    "duration": 265,
    "start_time": "2025-03-07T20:02:41.352Z"
   },
   {
    "duration": 113,
    "start_time": "2025-03-07T20:03:33.893Z"
   },
   {
    "duration": 120,
    "start_time": "2025-03-07T20:10:55.367Z"
   },
   {
    "duration": 4,
    "start_time": "2025-03-07T20:14:18.270Z"
   },
   {
    "duration": 33,
    "start_time": "2025-03-07T20:14:19.929Z"
   },
   {
    "duration": 74,
    "start_time": "2025-03-07T20:15:00.224Z"
   },
   {
    "duration": 2,
    "start_time": "2025-03-07T20:15:25.920Z"
   },
   {
    "duration": 1341,
    "start_time": "2025-03-07T20:15:26.669Z"
   },
   {
    "duration": 1191,
    "start_time": "2025-03-07T20:15:33.068Z"
   },
   {
    "duration": 4,
    "start_time": "2025-03-07T20:18:22.599Z"
   },
   {
    "duration": 33,
    "start_time": "2025-03-07T20:18:25.351Z"
   },
   {
    "duration": 72,
    "start_time": "2025-03-07T20:25:06.862Z"
   },
   {
    "duration": 1233,
    "start_time": "2025-03-07T20:46:24.937Z"
   },
   {
    "duration": 56,
    "start_time": "2025-03-07T20:46:26.172Z"
   },
   {
    "duration": 11,
    "start_time": "2025-03-07T20:46:26.230Z"
   },
   {
    "duration": 7,
    "start_time": "2025-03-07T20:46:26.243Z"
   },
   {
    "duration": 7,
    "start_time": "2025-03-07T20:46:26.252Z"
   },
   {
    "duration": 23,
    "start_time": "2025-03-07T20:46:26.260Z"
   },
   {
    "duration": 7,
    "start_time": "2025-03-07T20:46:26.285Z"
   },
   {
    "duration": 6,
    "start_time": "2025-03-07T20:46:26.293Z"
   },
   {
    "duration": 5,
    "start_time": "2025-03-07T20:46:26.300Z"
   },
   {
    "duration": 8,
    "start_time": "2025-03-07T20:46:26.306Z"
   },
   {
    "duration": 10,
    "start_time": "2025-03-07T20:46:26.315Z"
   },
   {
    "duration": 13,
    "start_time": "2025-03-07T20:46:26.357Z"
   },
   {
    "duration": 8,
    "start_time": "2025-03-07T20:46:26.371Z"
   },
   {
    "duration": 13,
    "start_time": "2025-03-07T20:46:26.382Z"
   },
   {
    "duration": 193,
    "start_time": "2025-03-07T20:46:26.397Z"
   },
   {
    "duration": 94,
    "start_time": "2025-03-07T20:46:26.592Z"
   },
   {
    "duration": 228,
    "start_time": "2025-03-07T20:46:26.688Z"
   },
   {
    "duration": 489,
    "start_time": "2025-03-07T20:46:26.918Z"
   },
   {
    "duration": 499,
    "start_time": "2025-03-07T20:46:27.408Z"
   },
   {
    "duration": 30,
    "start_time": "2025-03-07T20:46:27.909Z"
   },
   {
    "duration": 20,
    "start_time": "2025-03-07T20:46:27.940Z"
   },
   {
    "duration": 698,
    "start_time": "2025-03-07T20:46:27.962Z"
   },
   {
    "duration": 4,
    "start_time": "2025-03-07T20:46:28.661Z"
   },
   {
    "duration": 7,
    "start_time": "2025-03-07T20:46:28.667Z"
   },
   {
    "duration": 32,
    "start_time": "2025-03-07T20:46:28.676Z"
   },
   {
    "duration": 12,
    "start_time": "2025-03-07T20:46:28.710Z"
   },
   {
    "duration": 36,
    "start_time": "2025-03-07T20:46:28.723Z"
   },
   {
    "duration": 15,
    "start_time": "2025-03-07T20:46:28.761Z"
   },
   {
    "duration": 1622,
    "start_time": "2025-03-07T20:46:28.777Z"
   },
   {
    "duration": 337,
    "start_time": "2025-03-07T20:46:30.400Z"
   },
   {
    "duration": 1312,
    "start_time": "2025-03-07T20:47:36.857Z"
   },
   {
    "duration": 23,
    "start_time": "2025-03-07T21:11:37.901Z"
   },
   {
    "duration": 4,
    "start_time": "2025-03-07T21:17:01.817Z"
   },
   {
    "duration": 31,
    "start_time": "2025-03-07T21:17:06.292Z"
   },
   {
    "duration": 76,
    "start_time": "2025-03-07T21:17:13.495Z"
   }
  ],
  "kernelspec": {
   "display_name": "Python 3 (ipykernel)",
   "language": "python",
   "name": "python3"
  },
  "language_info": {
   "codemirror_mode": {
    "name": "ipython",
    "version": 3
   },
   "file_extension": ".py",
   "mimetype": "text/x-python",
   "name": "python",
   "nbconvert_exporter": "python",
   "pygments_lexer": "ipython3",
   "version": "3.9.23"
  },
  "toc": {
   "base_numbering": 1,
   "nav_menu": {
    "height": "355px",
    "width": "298px"
   },
   "number_sections": true,
   "sideBar": true,
   "skip_h1_title": true,
   "title_cell": "Table of Contents",
   "title_sidebar": "Contents",
   "toc_cell": false,
   "toc_position": {
    "height": "calc(100% - 180px)",
    "left": "10px",
    "top": "150px",
    "width": "260.391px"
   },
   "toc_section_display": true,
   "toc_window_display": true
  }
 },
 "nbformat": 4,
 "nbformat_minor": 5
}
